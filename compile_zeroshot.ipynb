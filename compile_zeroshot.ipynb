{
 "cells": [
  {
   "cell_type": "code",
   "execution_count": 12,
   "id": "8e9fa643-1245-46a6-815c-486499938887",
   "metadata": {},
   "outputs": [],
   "source": [
    "import pickle\n",
    "import pandas as pd\n",
    "import regex as re"
   ]
  },
  {
   "cell_type": "code",
   "execution_count": null,
   "id": "df4b3215-9f24-4482-b817-83a45ebc2d87",
   "metadata": {},
   "outputs": [],
   "source": [
    "subset_emotions = ['anger', 'disgust', 'fear', 'joy', 'sadness', 'surprise']"
   ]
  },
  {
   "cell_type": "code",
   "execution_count": 2,
   "id": "3c89965b-1924-4c62-be32-16c0936979c3",
   "metadata": {},
   "outputs": [],
   "source": [
    "results = pickle.load(open('gpt3.5-turbo-instruct-results.pkl','rb'))"
   ]
  },
  {
   "cell_type": "code",
   "execution_count": 4,
   "id": "ed254b33-1236-4704-9dd2-2cc1a6efe506",
   "metadata": {},
   "outputs": [],
   "source": [
    "y_pred = [r[1] for r in results]\n",
    "y_true = [r[0] for r in results]"
   ]
  },
  {
   "cell_type": "code",
   "execution_count": 23,
   "id": "257bb100-58ac-405f-844b-cec7ce780a16",
   "metadata": {},
   "outputs": [
    {
     "data": {
      "text/plain": [
       "['sadness',\n",
       " 'anger',\n",
       " 'sadness',\n",
       " 'joy',\n",
       " 'fear',\n",
       " 'sadness',\n",
       " 'fear',\n",
       " 'fear',\n",
       " 'anger',\n",
       " 'disgust and surprise',\n",
       " 'fear',\n",
       " 'joy',\n",
       " 'sadness',\n",
       " 'anger',\n",
       " 'joy',\n",
       " 'disgust',\n",
       " 'surprise',\n",
       " 'joy',\n",
       " 'surprise',\n",
       " 'anger']"
      ]
     },
     "execution_count": 23,
     "metadata": {},
     "output_type": "execute_result"
    }
   ],
   "source": [
    "y_true[:20]"
   ]
  },
  {
   "cell_type": "code",
   "execution_count": 18,
   "id": "bf3ed161-4edd-4371-a9b0-77a6f7ab20e2",
   "metadata": {
    "scrolled": true
   },
   "outputs": [
    {
     "data": {
      "text/plain": [
       "[\" 'sadness'.\",\n",
       " \" 'anger', 'disgust'.\",\n",
       " \" 'anger', 'joy' and 'sadness'. \",\n",
       " \" 'joy', 'sadness'.\",\n",
       " \" 'fear', 'joy', and 'sadness'.\",\n",
       " \" 'sadness' and 'surprise'. \",\n",
       " \" 'fear', 'disgust', 'sadness'.\",\n",
       " \" 'fear', 'sadness'.\",\n",
       " '\\n\\nanger, disgust',\n",
       " \" 'surprise', 'disgust', and 'anger'.\",\n",
       " \" 'anger', 'disgust', and 'sadness'. \",\n",
       " \" 'joy', 'surprise'.\",\n",
       " \" 'sadness' and possibly 'surprise'.\",\n",
       " ' anger, disgust, and surprise.',\n",
       " \" 'joy' and 'happiness'.\",\n",
       " \" 'anger', 'disgust', and 'surprise'.\",\n",
       " \" 'joy' and 'surprise'.\",\n",
       " \" 'joy'.\",\n",
       " \" 'surprise', 'disgust'.\",\n",
       " '\\n\\nNone of the listed emotions are explicitly mentioned in the sentence, but some possible']"
      ]
     },
     "execution_count": 18,
     "metadata": {},
     "output_type": "execute_result"
    }
   ],
   "source": [
    "y_pred[:20]"
   ]
  },
  {
   "cell_type": "code",
   "execution_count": 14,
   "id": "cec03bc6-8025-4666-9fec-5b78e6fbb50d",
   "metadata": {},
   "outputs": [],
   "source": [
    "get_alpha = lambda test_string : re.findall(r'\\w+', test_string)"
   ]
  },
  {
   "cell_type": "code",
   "execution_count": 17,
   "id": "e7cebc83-ed2f-405d-8d43-d7af2cf5c85a",
   "metadata": {},
   "outputs": [
    {
     "data": {
      "text/plain": [
       "['fear', 'joy', 'and', 'sadness']"
      ]
     },
     "execution_count": 17,
     "metadata": {},
     "output_type": "execute_result"
    }
   ],
   "source": [
    "get_alpha(y_pred[4])"
   ]
  },
  {
   "cell_type": "code",
   "execution_count": 20,
   "id": "634fcca8-6bd1-4d21-a03b-21259fc0e7fa",
   "metadata": {},
   "outputs": [],
   "source": [
    "results = pickle.load(open('predictions_llama13b_epoch3_bs8_lr1e-4-epoch=2-step=1677.pkl','rb'))"
   ]
  },
  {
   "cell_type": "code",
   "execution_count": 22,
   "id": "7819bc86-680d-493a-8005-60233c4a725f",
   "metadata": {},
   "outputs": [
    {
     "data": {
      "text/plain": [
       "['sadness.',\n",
       " 'anger.',\n",
       " 'anger.',\n",
       " 'joy.',\n",
       " 'fear.',\n",
       " 'sadness.',\n",
       " 'anger.',\n",
       " '1. sadness.',\n",
       " 'anger.',\n",
       " 'surprise.',\n",
       " 'fear.',\n",
       " 'joy.',\n",
       " 'sadness.',\n",
       " 'anger.',\n",
       " 'joy.',\n",
       " 'disgust.',\n",
       " '1 joy.',\n",
       " 'joy.',\n",
       " 'surprise.',\n",
       " 'anger.']"
      ]
     },
     "execution_count": 22,
     "metadata": {},
     "output_type": "execute_result"
    }
   ],
   "source": [
    "results[:20]"
   ]
  },
  {
   "cell_type": "code",
   "execution_count": null,
   "id": "3a1eaf5a-d1aa-4d14-a4f2-d2d7814e939b",
   "metadata": {},
   "outputs": [],
   "source": []
  }
 ],
 "metadata": {
  "kernelspec": {
   "display_name": "Python 3 (ipykernel)",
   "language": "python",
   "name": "python3"
  },
  "language_info": {
   "codemirror_mode": {
    "name": "ipython",
    "version": 3
   },
   "file_extension": ".py",
   "mimetype": "text/x-python",
   "name": "python",
   "nbconvert_exporter": "python",
   "pygments_lexer": "ipython3",
   "version": "3.11.3"
  }
 },
 "nbformat": 4,
 "nbformat_minor": 5
}
