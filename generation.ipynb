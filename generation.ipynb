{
 "cells": [
  {
   "cell_type": "code",
   "execution_count": 1,
   "id": "3496b887-0d29-4b87-8efb-1ed06dbfb7c6",
   "metadata": {},
   "outputs": [],
   "source": [
    "from transformers import AutoModelForCausalLM, AutoTokenizer, GenerationConfig, BitsAndBytesConfig\n",
    "from lit_sft import GoEmotionsLightningModule, GoEmotionsDataModule\n",
    "import torch"
   ]
  },
  {
   "cell_type": "code",
   "execution_count": 2,
   "id": "621b1d18-6bc8-4f01-a98f-855d6d9b784c",
   "metadata": {},
   "outputs": [],
   "source": [
    "bnb_4b_config = BitsAndBytesConfig(\n",
    "    load_in_4bit=True,\n",
    "    bnb_4bit_use_double_quant=True,\n",
    "    bnb_4bit_quant_type=\"nf4\",\n",
    "    bnb_4bit_compute_dtype=\"float16\"\n",
    ")"
   ]
  },
  {
   "cell_type": "code",
   "execution_count": 3,
   "id": "ded4fcec-f7bf-458f-957c-2206d47d5cdc",
   "metadata": {},
   "outputs": [],
   "source": [
    "bnb_8b_config = BitsAndBytesConfig(\n",
    "    load_in_8bit=True,\n",
    "    # bnb_4bit_quant_type=\"nf4\",\n",
    "    bnb_8bit_compute_dtype=torch.float16,\n",
    ")"
   ]
  },
  {
   "cell_type": "code",
   "execution_count": 4,
   "id": "a2c46be8-4de0-4bdb-92b4-6fa370beaea0",
   "metadata": {
    "scrolled": true,
    "tags": []
   },
   "outputs": [
    {
     "data": {
      "application/vnd.jupyter.widget-view+json": {
       "model_id": "26eb53500ba64904b0b0a2e419faffe3",
       "version_major": 2,
       "version_minor": 0
      },
      "text/plain": [
       "Loading checkpoint shards:   0%|          | 0/2 [00:00<?, ?it/s]"
      ]
     },
     "metadata": {},
     "output_type": "display_data"
    }
   ],
   "source": [
    "base_model = AutoModelForCausalLM.from_pretrained(\n",
    "    \"meta-llama/Llama-2-7b-hf\",\n",
    "    quantization_config=bnb_8b_config,\n",
    "    device_map={\"\": 0},\n",
    "    trust_remote_code=True,\n",
    ")"
   ]
  },
  {
   "cell_type": "code",
   "execution_count": 5,
   "id": "9b03578e-25fd-4e6b-975f-09d9b3afc489",
   "metadata": {},
   "outputs": [],
   "source": [
    "# ckpt_path = \"/work/scratch/hj36wegi/data/goemotions/llama2_sft_template1/lightning_logs/\""
   ]
  },
  {
   "cell_type": "code",
   "execution_count": 6,
   "id": "e1f8b94a-505a-4675-b40b-501970893ead",
   "metadata": {},
   "outputs": [],
   "source": [
    "# model = GoEmotionsLightningModule.load_from_checkpoint(ckpt_path+'/llama7b_epoch3_bs4_lr1e-4/checkpoints/epoch=2-step=3351.ckpt',map_location='cpu')"
   ]
  },
  {
   "cell_type": "code",
   "execution_count": 7,
   "id": "a132e2bd-c890-4b9c-b2d0-7f732d1c01f3",
   "metadata": {},
   "outputs": [],
   "source": [
    "gen_config = GenerationConfig(max_new_tokens=10,\n",
    "                              min_new_tokens=6,\n",
    "                              do_sample=True,\n",
    "                              num_beams=1,\n",
    "                              top_p=1.0,\n",
    "                              temperature=1.0,\n",
    "                              num_return_sequences=1)"
   ]
  },
  {
   "cell_type": "code",
   "execution_count": 8,
   "id": "f62cbb01-465b-4a37-bd8a-2a85c2670da6",
   "metadata": {},
   "outputs": [
    {
     "data": {
      "application/vnd.jupyter.widget-view+json": {
       "model_id": "9eab94efbe174d97ba5015ff06085132",
       "version_major": 2,
       "version_minor": 0
      },
      "text/plain": [
       "Map:   0%|          | 0/4468 [00:00<?, ? examples/s]"
      ]
     },
     "metadata": {},
     "output_type": "display_data"
    },
    {
     "data": {
      "application/vnd.jupyter.widget-view+json": {
       "model_id": "2fc6bac8b8884c6084828a47c12d1a7e",
       "version_major": 2,
       "version_minor": 0
      },
      "text/plain": [
       "Map:   0%|          | 0/530 [00:00<?, ? examples/s]"
      ]
     },
     "metadata": {},
     "output_type": "display_data"
    },
    {
     "data": {
      "application/vnd.jupyter.widget-view+json": {
       "model_id": "f4790351050d4a38be9ac5a185f7e8ee",
       "version_major": 2,
       "version_minor": 0
      },
      "text/plain": [
       "Map:   0%|          | 0/573 [00:00<?, ? examples/s]"
      ]
     },
     "metadata": {},
     "output_type": "display_data"
    }
   ],
   "source": [
    "dm = GoEmotionsDataModule()"
   ]
  },
  {
   "cell_type": "code",
   "execution_count": null,
   "id": "646f3174-2b70-4079-99be-6884803fe5b5",
   "metadata": {},
   "outputs": [],
   "source": [
    "loader = dm"
   ]
  }
 ],
 "metadata": {
  "kernelspec": {
   "display_name": "Python 3 (ipykernel)",
   "language": "python",
   "name": "python3"
  },
  "language_info": {
   "codemirror_mode": {
    "name": "ipython",
    "version": 3
   },
   "file_extension": ".py",
   "mimetype": "text/x-python",
   "name": "python",
   "nbconvert_exporter": "python",
   "pygments_lexer": "ipython3",
   "version": "3.10.9"
  }
 },
 "nbformat": 4,
 "nbformat_minor": 5
}
